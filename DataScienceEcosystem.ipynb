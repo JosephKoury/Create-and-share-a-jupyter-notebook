{
 "cells": [
  {
   "cell_type": "markdown",
   "id": "72fbf3c1-bddd-4642-a9d7-8bcf8b10a479",
   "metadata": {},
   "source": [
    "# Data Science Tools and Ecosystem"
   ]
  },
  {
   "cell_type": "markdown",
   "id": "94b2b26d-7fcc-4940-8d1f-e4683f2943eb",
   "metadata": {},
   "source": [
    "In this notebook, Data Science Tools and Ecosystem are summarized."
   ]
  },
  {
   "cell_type": "markdown",
   "id": "c603644c-07f6-45ed-a075-b31abe92dabc",
   "metadata": {},
   "source": [
    "**Objectives:**\n",
    "- Some of the popular languages that Data Scientists use\n",
    "- Some of the commonly used libraries used by Data Scientists\n",
    "- A few examples of evaluating arithmetic expressions in Python"
   ]
  },
  {
   "cell_type": "markdown",
   "id": "ac04f58c-ea1c-4651-be14-f2136b135849",
   "metadata": {
    "tags": []
   },
   "source": [
    "Some of the popular languages that Data Scientists use are:\n",
    "    \n",
    "    1. Python\n",
    "    2. SQL\n",
    "    3. R"
   ]
  },
  {
   "cell_type": "markdown",
   "id": "2c69048f-106a-44a6-9d55-7b763a680716",
   "metadata": {},
   "source": [
    "Some of the commonly used libraries used by Data Scientists include:\n",
    "    \n",
    "    1. Pandas\n",
    "    2. NumPy\n",
    "    3. Matplotlib"
   ]
  },
  {
   "cell_type": "markdown",
   "id": "83b52cc4-dcae-4423-bf37-a43da274960a",
   "metadata": {
    "tags": []
   },
   "source": [
    "|Data Science Tools|\n",
    "|----|\n",
    "|Jupyter Lab|\n",
    "|Apache Zeppelin|\n",
    "|R Studio|"
   ]
  },
  {
   "cell_type": "markdown",
   "id": "0cfefa72-c516-46a8-8680-83462fb4a97f",
   "metadata": {},
   "source": [
    "Below are a few examples of evaluating arithmetic expressions in Python"
   ]
  },
  {
   "cell_type": "code",
   "execution_count": 4,
   "id": "858f1b6d-b5d9-45fd-925d-e6d613707102",
   "metadata": {
    "tags": []
   },
   "outputs": [
    {
     "data": {
      "text/plain": [
       "17"
      ]
     },
     "execution_count": 4,
     "metadata": {},
     "output_type": "execute_result"
    }
   ],
   "source": [
    "# This a simple arithmetic expression to mutiply then add integers\n",
    "(3*4)+5"
   ]
  },
  {
   "cell_type": "code",
   "execution_count": 9,
   "id": "f9472340-22dd-48df-9f44-c25c21c54e8f",
   "metadata": {
    "tags": []
   },
   "outputs": [
    {
     "data": {
      "text/plain": [
       "3.3333333333333335"
      ]
     },
     "execution_count": 9,
     "metadata": {},
     "output_type": "execute_result"
    }
   ],
   "source": [
    "# This will convert 200 minutes to hours by diving by 60\n",
    "200/60 "
   ]
  },
  {
   "cell_type": "markdown",
   "id": "d5563852-ed88-413d-8dde-a164cc4a722a",
   "metadata": {},
   "source": [
    "**Author**\n",
    "\n",
    "Joseph Koury"
   ]
  },
  {
   "cell_type": "code",
   "execution_count": null,
   "id": "21d8dedc-aa6f-4e77-a52a-076f5415f0b1",
   "metadata": {},
   "outputs": [],
   "source": []
  }
 ],
 "metadata": {
  "kernelspec": {
   "display_name": "Python 3 (ipykernel)",
   "language": "python",
   "name": "python3"
  },
  "language_info": {
   "codemirror_mode": {
    "name": "ipython",
    "version": 3
   },
   "file_extension": ".py",
   "mimetype": "text/x-python",
   "name": "python",
   "nbconvert_exporter": "python",
   "pygments_lexer": "ipython3",
   "version": "3.8.18"
  }
 },
 "nbformat": 4,
 "nbformat_minor": 5
}
